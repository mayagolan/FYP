{
 "cells": [
  {
   "cell_type": "code",
   "execution_count": 1,
   "metadata": {},
   "outputs": [],
   "source": [
    "import pandas as pd \n",
    "import numpy as np \n",
    "import matplotlib.pyplot as plt \n",
    "from   datetime import datetime\n",
    "import glob\n",
    "from   pandas.tseries.offsets import *"
   ]
  },
  {
   "cell_type": "markdown",
   "metadata": {},
   "source": [
    "## Merge Sentiment Analysis of Reuter Articles"
   ]
  },
  {
   "cell_type": "code",
   "execution_count": 49,
   "metadata": {
    "scrolled": true
   },
   "outputs": [],
   "source": [
    "lst_companies = [] \n",
    "lst_files = [] \n",
    "path = \"*.csv\"\n",
    "\n",
    "for fname in glob.glob(path):\n",
    "    lst_files.append(fname)\n",
    "\n",
    "lst_files = sorted(lst_files)\n",
    "\n",
    "df = pd.concat(map(pd.read_csv, lst_files), ignore_index=True)\n",
    "\n",
    "# Sort by Date, Company; drop redundant columns\n",
    "df = df.sort_values(by = ['Date', 'Company'], ascending = True)\n",
    "df = df.drop(['Unnamed: 0'], axis = 1)\n",
    "\n",
    "# Align Sentiment with the following day's Return\n",
    "df['Date'] = pd.to_datetime(df['Date'])\n",
    "df = df[~(df['Date'] < '2015-02-03')]\n",
    "\n",
    "# List of companies without a website/article on Reuters\n",
    "empty_companies = ['Alexandria Real Estate Equities Inc.', 'Alliant Energy', 'American Assets Trust', 'Avery Dennison', 'Brandywine Realty Trust', 'Carrier Global Corporation', 'Choice Hotels International', 'Duke Realty Limited Partnership', 'Exelon Corporation', 'Grainger W W Inc', 'Highwoods Realty Limited Partnership', 'Howmet Aerospace Inc', 'Hubbell Incorporated', 'Idacorp', 'Idex Corporation', 'Kilroy Realty L.P.', 'Kirby Corp', 'Lennox International Inc', 'Lumen Technologies Inc', 'MDC Holdings', 'Mid-America Apartments L.P.', 'NVR Inc', 'Newmarket Corporation', 'ONE Gas Inc.', 'Oneok Inc.', 'Otis Worldwide Corporation', 'Pentair', 'Prosus', 'Raytheon Technologies Corporation', 'Royalty Pharma plc', 'STORE Capital Corp', 'Xylem Inc.', 'nVent Electric Plc']\n",
    "df = df[~df['Company'].isin(empty_companies)]\n",
    "\n",
    "df.to_csv(r'/Users/mayagolan/OneDrive - Imperial College London/EE4/FYP/Final-Year-Project-main/{0}.csv'.format('Merged Sentiment Reuters'))"
   ]
  }
 ],
 "metadata": {
  "kernelspec": {
   "display_name": "Python 3",
   "language": "python",
   "name": "python3"
  },
  "language_info": {
   "codemirror_mode": {
    "name": "ipython",
    "version": 3
   },
   "file_extension": ".py",
   "mimetype": "text/x-python",
   "name": "python",
   "nbconvert_exporter": "python",
   "pygments_lexer": "ipython3",
   "version": "3.9.1"
  }
 },
 "nbformat": 4,
 "nbformat_minor": 4
}
