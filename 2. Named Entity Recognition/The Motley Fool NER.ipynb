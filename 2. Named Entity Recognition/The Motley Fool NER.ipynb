{
 "cells": [
  {
   "cell_type": "code",
   "execution_count": 1,
   "metadata": {
    "scrolled": true
   },
   "outputs": [],
   "source": [
    "import numpy as np\n",
    "import pandas as pd\n",
    "import re\n",
    "import glob\n",
    "from   os import path\n",
    "\n",
    "from   transformers import AutoTokenizer, AutoModelForTokenClassification\n",
    "from   transformers import pipeline\n",
    "\n",
    "tokenizer = AutoTokenizer.from_pretrained(\"dslim/bert-base-NER\")\n",
    "model     = AutoModelForTokenClassification.from_pretrained(\"dslim/bert-base-NER\")\n",
    "nlp       = pipeline(\"ner\", model=model, tokenizer=tokenizer)"
   ]
  },
  {
   "cell_type": "code",
   "execution_count": 2,
   "metadata": {},
   "outputs": [],
   "source": [
    "def combineHeadlineText(row):\n",
    "    if isinstance(row[\"Headline\"], str):\n",
    "        return row[\"Headline\"] + \". \" + row[\"Text\"]\n",
    "    else:\n",
    "        return row[\"Text\"]"
   ]
  },
  {
   "cell_type": "code",
   "execution_count": 8,
   "metadata": {
    "scrolled": true
   },
   "outputs": [
    {
     "name": "stdout",
     "output_type": "stream",
     "text": [
      "Antofagasta Plc.csv\n",
      "Ashland Inc..csv\n",
      "BED Bath & Beyond.csv\n",
      "Deutsche Telekom AG.csv\n",
      "Fortis Inc.csv\n",
      "Retail Properties of America Inc..csv\n",
      "Seagate Technology .csv\n",
      "Solvay Finance America LLC.csv\n",
      "Weibo Corporation.csv\n",
      "Xcel Energy Inc.csv\n"
     ]
    }
   ],
   "source": [
    "lst_companies = [] \n",
    "lst_files = [] \n",
    "\n",
    "Path = \"*.csv\"\n",
    "count = 0\n",
    "\n",
    "for fname in glob.glob(Path):\n",
    "    lst_files.append(fname)\n",
    "\n",
    "lst_files = sorted(lst_files)\n",
    "\n",
    "for file in lst_files:\n",
    "    if not path.isfile('/Users/mayagolan/OneDrive - Imperial College London/EE4/FYP/Final-Year-Project-main/Pipeline/TMF NER/{0}'.format(file)):\n",
    "        print(file)\n",
    "        df = pd.read_csv(file)\n",
    "        if df.shape[0] != 0:\n",
    "            df = df.drop(['Unnamed: 0', 'Author'], axis = 1)\n",
    "            df = df.drop_duplicates(['Date','Headline'],keep= 'last')\n",
    "            df['Text'] = df['Text'].astype(str)  \n",
    "            df['Text'] = df.apply(lambda row: combineHeadlineText(row), axis=1)\n",
    "            df['Date'] = df['Date'].str.replace(r'Published: ', ' ')\n",
    "            df['Date'] = df['Date'].str.replace(r'Updated: ', ' ')\n",
    "            df['Date'] = pd.to_datetime(df['Date'].str[-23:], utc=True).dt.date           #change date format to YYYY-MM-DD\n",
    "            df = df.sort_values(by = ['Date'], ascending = True)\n",
    "\n",
    "            count = []\n",
    "            company_name = file[0:len(file)-4].strip()\n",
    "\n",
    "            for i in range(len(df)):\n",
    "                ner_results = nlp(df[\"Text\"].iloc[i])\n",
    "                company_instances = [d for d in ner_results if (d['entity'] in \"B-ORG\") and (d['word'] in company_name) and (d['score'] > 0.98)]\n",
    "                count.append(len(company_instances))\n",
    "\n",
    "            df['Count'] = count\n",
    "            df = df[df['Count'] > 0]\n",
    "            df = df.drop(['Count'], axis = 1)\n",
    "#             print(company_name)\n",
    "            df.to_csv(r'/Users/mayagolan/OneDrive - Imperial College London/EE4/FYP/Final-Year-Project-main/Pipeline/TMF NER/{0}.csv'.format(company_name))"
   ]
  }
 ],
 "metadata": {
  "kernelspec": {
   "display_name": "Python 3",
   "language": "python",
   "name": "python3"
  },
  "language_info": {
   "codemirror_mode": {
    "name": "ipython",
    "version": 3
   },
   "file_extension": ".py",
   "mimetype": "text/x-python",
   "name": "python",
   "nbconvert_exporter": "python",
   "pygments_lexer": "ipython3",
   "version": "3.9.1"
  }
 },
 "nbformat": 4,
 "nbformat_minor": 4
}
